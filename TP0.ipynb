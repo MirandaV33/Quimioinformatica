{
  "nbformat": 4,
  "nbformat_minor": 0,
  "metadata": {
    "colab": {
      "provenance": [],
      "authorship_tag": "ABX9TyOI5U7F+8DsrPY/J02nS9Nk",
      "include_colab_link": true
    },
    "kernelspec": {
      "name": "python3",
      "display_name": "Python 3"
    },
    "language_info": {
      "name": "python"
    }
  },
  "cells": [
    {
      "cell_type": "markdown",
      "metadata": {
        "id": "view-in-github",
        "colab_type": "text"
      },
      "source": [
        "<a href=\"https://colab.research.google.com/github/MirandaV33/Quimioinformatica/blob/main/TP0.ipynb\" target=\"_parent\"><img src=\"https://colab.research.google.com/assets/colab-badge.svg\" alt=\"Open In Colab\"/></a>"
      ]
    },
    {
      "cell_type": "markdown",
      "source": [
        "### TP0: INTRUCCIONES PARA HACER UNA CHOCOTORTA"
      ],
      "metadata": {
        "id": "gyg-jRI7CTDY"
      }
    },
    {
      "cell_type": "code",
      "execution_count": null,
      "metadata": {
        "id": "wc8YJx8ECKqS",
        "colab": {
          "base_uri": "https://localhost:8080/"
        },
        "outputId": "857064bf-93b5-41eb-c732-6e008e0fffd0"
      },
      "outputs": [
        {
          "output_type": "stream",
          "name": "stdout",
          "text": [
            "Buenas tardes, estas a punto de hacer una chocotorta. Estas listo?\n",
            "Si/No:Si\n",
            "Genial! Vas a necesitar los siguientes ingrediente:\n",
            "- Queso crema\n",
            "- Dulce de leche\n",
            "- Chocolinas\n",
            "- Leche o café\n",
            "- Fuente\n",
            "¿Tienes todos los ingredientes?\n",
            "Si/No:Si\n",
            "Perfecto! Comencemos con la preparacion\n",
            "Paso 1: Mezaclar el dulce de leche con el queso crema\n",
            "Paso 2: Remojas las chocolinas, quieres usar:\n",
            "Leche/Cafe:Leche\n",
            "Perfecto! Le da un sabor mas suave a la chocotorta\n",
            "Paso 3: Crear 1 capa de chocolinas\n",
            "Paso 4: Colocar la mezcla de dulce de leche y queso crema sobre la primer capa\n",
            "Luego, tu decides cuantas capas vas a realizar!\n",
            "¿Cuántas capas querés hacer?: 5\n",
            "¡Vas a hacer 5 capas!\n",
            "Genial para finalizar, deseas espolvorearle cacao? No es obligatorio pero queda riquisimo\n",
            "Si/No:Si\n",
            "Genial! Terminamos! Chocotorta Lista\n"
          ]
        }
      ],
      "source": [
        "ingredientes = [\"Queso crema\", \"Dulce de leche\", \"Chocolinas\", \"Leche o café\", 'Fuente']\n",
        "print(\"Buenas tardes, estas a punto de hacer una chocotorta. Estas listo?\")\n",
        "respuesta=input('Si/No:')\n",
        "if respuesta == 'Si' :\n",
        "  print(\"Genial! Vas a necesitar los siguientes ingrediente:\")\n",
        "  for item in ingredientes:\n",
        "    print(f\"- {item}\")\n",
        "  print('¿Tienes todos los ingredientes?')\n",
        "  respuesta=input('Si/No:')\n",
        "  if respuesta == 'Si' :\n",
        "    print('Perfecto! Comencemos con la preparacion')\n",
        "    print('Paso 1: Mezaclar el dulce de leche con el queso crema')\n",
        "    print('Paso 2: Remojas las chocolinas, quieres usar:')\n",
        "    respuesta= input('Leche/Cafe:')\n",
        "    if respuesta == 'Leche' :\n",
        "      print('Perfecto! Le da un sabor mas suave a la chocotorta')\n",
        "      print('Paso 3: Crear 1 capa de chocolinas')\n",
        "      print('Paso 4: Colocar la mezcla de dulce de leche y queso crema sobre la primer capa')\n",
        "      print('Luego, tu decides cuantas capas vas a realizar!')\n",
        "      capas = int(input(\"¿Cuántas capas querés hacer?: \"))\n",
        "      print(f\"¡Vas a hacer {capas} capas!\")\n",
        "      print(\"Genial para finalizar, deseas espolvorearle cacao? No es obligatorio pero queda riquisimo\")\n",
        "      respuesta=input('Si/No:')\n",
        "      if respuesta == 'Si':\n",
        "        print('Genial! Terminamos! Chocotorta Lista')\n",
        "      else:\n",
        "        print('Genial! Terminamos! Chocotorta Lista')\n",
        "    elif respuesta == 'Cafe' :\n",
        "      print('Perfecto! Le da un sabor mas fuerte a la chocotorta')\n",
        "      print('Paso 3: Crear 1 capa de chocolinas')\n",
        "      print('Paso 4: Colocar la mezcla de dulce de leche y queso crema sobre la primer capa')\n",
        "      print('Luego, tu decides cuantas capas vas a realizar!')\n",
        "      capas = int(input(\"¿Cuántas capas querés hacer?: \"))\n",
        "      print(f\"¡Vas a hacer {capas} capas!\")\n",
        "      print(\"Genial para finalizar, deseas espolvorearle cacao? No es obligatorio pero queda riquisimo\")\n",
        "      respuesta=input('Si/No:')\n",
        "      if respuesta == 'Si' :\n",
        "        print('Genial! Termiamos! Chocotorta Lista')\n",
        "      else:\n",
        "        print('Genial! Termiamos! Chocotorta Lista')\n",
        "    else:\n",
        "      print('Tendras que ir al supermercado!Ja')\n",
        "else:\n",
        "  print('Bueno, sera en otro momento. Adios!')\n"
      ]
    },
    {
      "cell_type": "code",
      "source": [],
      "metadata": {
        "id": "utYll2whGhW3"
      },
      "execution_count": null,
      "outputs": []
    }
  ]
}