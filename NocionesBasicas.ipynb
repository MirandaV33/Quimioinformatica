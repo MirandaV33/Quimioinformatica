{
  "nbformat": 4,
  "nbformat_minor": 0,
  "metadata": {
    "colab": {
      "provenance": [],
      "authorship_tag": "ABX9TyORcQz7cHOewGGwRU9M/vew",
      "include_colab_link": true
    },
    "kernelspec": {
      "name": "python3",
      "display_name": "Python 3"
    },
    "language_info": {
      "name": "python"
    }
  },
  "cells": [
    {
      "cell_type": "markdown",
      "metadata": {
        "id": "view-in-github",
        "colab_type": "text"
      },
      "source": [
        "<a href=\"https://colab.research.google.com/github/MirandaV33/Quimioinformatica/blob/main/NocionesBasicas.ipynb\" target=\"_parent\"><img src=\"https://colab.research.google.com/assets/colab-badge.svg\" alt=\"Open In Colab\"/></a>"
      ]
    },
    {
      "cell_type": "markdown",
      "source": [
        "# **Nociones basicas de programacion en pyhton**"
      ],
      "metadata": {
        "id": "AKXlA5aJsr4C"
      }
    },
    {
      "cell_type": "markdown",
      "source": [
        "### Tipos de Variables"
      ],
      "metadata": {
        "id": "d7Y7qUuKvU9B"
      }
    },
    {
      "cell_type": "markdown",
      "source": [
        "Una variable en programcion es un lugar donde guardo informacion. Tipos de variables:\n",
        "* Float: decimales\n",
        "* Int: enteros\n",
        "* Character:\n",
        "* String: frases\n",
        "* Booleana: true, false\n",
        "\n"
      ],
      "metadata": {
        "id": "4XtXLPp4ubgy"
      }
    },
    {
      "cell_type": "code",
      "source": [
        "# Muestro una variable de tipo int\n",
        "x= 38\n",
        "print(x)\n",
        "type(x) # Muestro que tipo de variable es x"
      ],
      "metadata": {
        "colab": {
          "base_uri": "https://localhost:8080/"
        },
        "id": "X1iibTrRvTWL",
        "outputId": "b5940e40-af2b-4c52-9948-a1b7bdfb065f"
      },
      "execution_count": 2,
      "outputs": [
        {
          "output_type": "stream",
          "name": "stdout",
          "text": [
            "38\n"
          ]
        },
        {
          "output_type": "execute_result",
          "data": {
            "text/plain": [
              "int"
            ]
          },
          "metadata": {},
          "execution_count": 2
        }
      ]
    },
    {
      "cell_type": "code",
      "source": [
        "my_text = \"Hola Mundo\"\n",
        "print(my_text)\n",
        "print(type(my_text))\n"
      ],
      "metadata": {
        "colab": {
          "base_uri": "https://localhost:8080/"
        },
        "id": "l604WSjevd6K",
        "outputId": "f7c5405f-1ede-498a-a290-916bf9b3dcd3"
      },
      "execution_count": 3,
      "outputs": [
        {
          "output_type": "stream",
          "name": "stdout",
          "text": [
            "Hola Mundo\n",
            "<class 'str'>\n"
          ]
        }
      ]
    },
    {
      "cell_type": "code",
      "source": [
        "mi_logica= True\n",
        "print(mi_logica)\n",
        "print(type(mi_logica))"
      ],
      "metadata": {
        "colab": {
          "base_uri": "https://localhost:8080/"
        },
        "id": "5jfpZ-Kiw2_U",
        "outputId": "d2df7c85-2ef4-48f7-b2e7-55a0f5a93187"
      },
      "execution_count": 4,
      "outputs": [
        {
          "output_type": "stream",
          "name": "stdout",
          "text": [
            "True\n",
            "<class 'bool'>\n"
          ]
        }
      ]
    },
    {
      "cell_type": "code",
      "source": [
        "my_list=[0,1,2]\n",
        "print(my_list)\n",
        "my_list[2] #Llamo a mi funcion, RECORDAR los indices empiezan en 0 en python. Se aceptan distintos tipos de datos.\n",
        "print(type(my_list))"
      ],
      "metadata": {
        "colab": {
          "base_uri": "https://localhost:8080/"
        },
        "id": "OrVPYnpyw_qD",
        "outputId": "43182823-20f7-4f6a-8e6b-6e431ba128e5"
      },
      "execution_count": 9,
      "outputs": [
        {
          "output_type": "stream",
          "name": "stdout",
          "text": [
            "[0, 1, 2]\n",
            "<class 'list'>\n"
          ]
        }
      ]
    },
    {
      "cell_type": "code",
      "source": [
        "#Data Frames: tablas que pueden contener distintos tipos de valores."
      ],
      "metadata": {
        "id": "x7VI58PVxFd8"
      },
      "execution_count": 10,
      "outputs": []
    },
    {
      "cell_type": "code",
      "source": [
        "lista_int_str = [\"hola\", 0]\n",
        "print(type(lista_int_str))"
      ],
      "metadata": {
        "colab": {
          "base_uri": "https://localhost:8080/"
        },
        "id": "JGlyQGZ1xp4x",
        "outputId": "6da64056-07c8-4f02-866c-a52e6b15a526"
      },
      "execution_count": 12,
      "outputs": [
        {
          "output_type": "stream",
          "name": "stdout",
          "text": [
            "<class 'list'>\n"
          ]
        }
      ]
    },
    {
      "cell_type": "markdown",
      "source": [
        "### Operaciones con variables"
      ],
      "metadata": {
        "id": "XIb3NQwGybbJ"
      }
    },
    {
      "cell_type": "code",
      "source": [
        "x=3\n",
        "y=4\n",
        "print(x*y)\n",
        "print(x+y)\n",
        "print(x-y)\n",
        "print(x%y)\n",
        "print(y%x)"
      ],
      "metadata": {
        "colab": {
          "base_uri": "https://localhost:8080/"
        },
        "id": "KToclfzwyXz5",
        "outputId": "0977fee5-7b7a-4bf8-e417-52b208c20f71"
      },
      "execution_count": 15,
      "outputs": [
        {
          "output_type": "stream",
          "name": "stdout",
          "text": [
            "12\n",
            "7\n",
            "-1\n",
            "3\n",
            "1\n"
          ]
        }
      ]
    },
    {
      "cell_type": "code",
      "source": [],
      "metadata": {
        "id": "bIwUGDLGzgZA"
      },
      "execution_count": null,
      "outputs": []
    }
  ]
}